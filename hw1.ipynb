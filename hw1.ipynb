{
 "cells": [
  {
   "cell_type": "code",
   "execution_count": 1,
   "metadata": {},
   "outputs": [],
   "source": [
    "import gensim\n",
    "import numpy as np\n",
    "import matplotlib.pyplot as plt\n",
    "import scipy\n",
    "import scipy.cluster.hierarchy as hcluster\n",
    "import heapq\n",
    "from sklearn.cluster import KMeans"
   ]
  },
  {
   "cell_type": "markdown",
   "metadata": {},
   "source": [
    "Я использовал модель ruscorpora_upos_cbow_300_20_2019"
   ]
  },
  {
   "cell_type": "code",
   "execution_count": 2,
   "metadata": {},
   "outputs": [],
   "source": [
    "with open (\"/Users/mak/Downloads/180/model.txt\", 'r') as f:\n",
    "    model = gensim.models.KeyedVectors.load_word2vec_format(f, binary = False)"
   ]
  },
  {
   "cell_type": "code",
   "execution_count": 3,
   "metadata": {},
   "outputs": [],
   "source": [
    "with open(\"Lonshakov.txt\", 'r', encoding='utf-8') as f:\n",
    "    pairs = f.readlines()"
   ]
  },
  {
   "cell_type": "code",
   "execution_count": 4,
   "metadata": {
    "scrolled": true
   },
   "outputs": [],
   "source": [
    "verb = pairs[0].split('_')[0] + '_VERB'\n",
    "nouns = []\n",
    "cleaned_pairs = []\n",
    "for pair in pairs:\n",
    "    pair = pair.split('\\t')[0]\n",
    "    cleaned_pairs.append(pair)\n",
    "for words in cleaned_pairs:\n",
    "    noun = words.split('_')[1]\n",
    "    nouns.append(noun + '_NOUN')"
   ]
  },
  {
   "cell_type": "code",
   "execution_count": 5,
   "metadata": {
    "scrolled": true
   },
   "outputs": [],
   "source": [
    "phrases = []    # phrases – список векторов словосочетаний из списка\n",
    "for noun in nouns:\n",
    "    phrases.append(model[verb] + model[noun])"
   ]
  },
  {
   "cell_type": "code",
   "execution_count": 6,
   "metadata": {},
   "outputs": [],
   "source": [
    "array = []\n",
    "for phrase in phrases:\n",
    "    vector = []\n",
    "    for item in phrase:\n",
    "        vector.append(float(item))\n",
    "    array.append(vector)"
   ]
  },
  {
   "cell_type": "code",
   "execution_count": 7,
   "metadata": {
    "scrolled": true
   },
   "outputs": [
    {
     "name": "stdout",
     "output_type": "stream",
     "text": [
      "(100, 300)\n"
     ]
    }
   ],
   "source": [
    "X = np.array(array)\n",
    "print (X.shape)"
   ]
  },
  {
   "cell_type": "markdown",
   "metadata": {},
   "source": [
    "## Иерархическая кластеризация"
   ]
  },
  {
   "cell_type": "code",
   "execution_count": 8,
   "metadata": {},
   "outputs": [
    {
     "data": {
      "image/png": "[encoded data removed]",
      "text/plain": [
       "<Figure size 432x288 with 1 Axes>"
      ]
     },
     "metadata": {
      "needs_background": "light"
     },
     "output_type": "display_data"
    }
   ],
   "source": [
    "Z = hcluster.linkage(X)\n",
    "plt.figure()\n",
    "dn = hcluster.dendrogram(Z)\n",
    "plt.show()"
   ]
  },
  {
   "cell_type": "code",
   "execution_count": 9,
   "metadata": {
    "scrolled": false
   },
   "outputs": [
    {
     "name": "stdout",
     "output_type": "stream",
     "text": [
      "Estimated number of clusters: 66\n"
     ]
    }
   ],
   "source": [
    "clusters = hcluster.fcluster(Z, t=0.9)\n",
    "print('Estimated number of clusters: %d' % len(set(clusters)))"
   ]
  },
  {
   "cell_type": "markdown",
   "metadata": {},
   "source": [
    "Для данной задачи задавать параметр t имеет смысл в промежутке от 0.71 до 1.14 (иначе выходит либо всего 1 кластер, либо 0 кластеров, содержащих более 2-х элементов). Я задал t = 0.9, так как в таком случае получилась более осмысленная кластеризация. Иначе, например, при t = 1, один из кластеров сложно интерпретировать из-за размера (46 элементов) и теряются другие выделяющиеся кластеры (в сравнении с t=0.9)."
   ]
  },
  {
   "cell_type": "code",
   "execution_count": 10,
   "metadata": {},
   "outputs": [],
   "source": [
    "clusters_hier = [[] for i in range(len(set(clusters)))]\n",
    "for i, j in enumerate(clusters):\n",
    "    clusters_hier[j-1].append(cleaned_pairs[i])"
   ]
  },
  {
   "cell_type": "code",
   "execution_count": 11,
   "metadata": {},
   "outputs": [],
   "source": [
    "more_two_clusters = []\n",
    "more_two = 0\n",
    "for cluster in clusters_hier:\n",
    "    if len(cluster) > 2:\n",
    "        more_two += 1\n",
    "        more_two_clusters.append(cluster)"
   ]
  },
  {
   "cell_type": "code",
   "execution_count": 12,
   "metadata": {},
   "outputs": [],
   "source": [
    "vectors_hier = [[] for i in range(len(set(clusters)))]\n",
    "for i, j in enumerate(clusters): \n",
    "    vectors_hier[j-1].append(np.array(X[i]))"
   ]
  },
  {
   "cell_type": "code",
   "execution_count": 13,
   "metadata": {},
   "outputs": [],
   "source": [
    "dist_from_centroid = [[] for i in range(len(more_two_clusters))]\n",
    "\n",
    "more_two = 0\n",
    "for cluster in vectors_hier:\n",
    "    if len(cluster) > 2:\n",
    "        for phrase in cluster:\n",
    "            dist_from_centroid[more_two].append(scipy.spatial.distance.cosine(np.mean(cluster), phrase))\n",
    "        more_two += 1"
   ]
  },
  {
   "cell_type": "code",
   "execution_count": 14,
   "metadata": {},
   "outputs": [],
   "source": [
    "hier_clusters_with_three_elem = []\n",
    "i = 0\n",
    "for cluster in dist_from_centroid:\n",
    "    temp_list = []\n",
    "    closest_three = heapq.nlargest(3, cluster)\n",
    "    for elem in closest_three:\n",
    "        temp_list.append(more_two_clusters[i][cluster.index(elem)])\n",
    "    hier_clusters_with_three_elem.append(temp_list)\n",
    "    i += 1"
   ]
  },
  {
   "cell_type": "code",
   "execution_count": 15,
   "metadata": {},
   "outputs": [
    {
     "name": "stdout",
     "output_type": "stream",
     "text": [
      "Кластер № 1 ['найти_книга', 'найти_книжка', 'найти_рукопись']\n",
      "Кластер № 2 ['найти_помещение', 'найти_квартира', 'найти_дом']\n",
      "Кластер № 3 ['найти_ключ', 'найти_золото', 'найти_клад']\n",
      "Кластер № 4 ['найти_способ', 'найти_средства', 'найти_средство']\n",
      "Кластер № 5 ['найти_невеста', 'найти_девушка', 'найти_женщина']\n",
      "Кластер № 6 ['найти_анализ', 'найти_подход', 'найти_понимание']\n",
      "Кластер № 7 ['найти_покой', 'найти_успокоение', 'найти_счастие']\n",
      "Кластер № 8 ['найти_объяснение', 'найти_ответ', 'найти_истина']\n",
      "Кластер № 9 ['найти_желание', 'найти_невозможность', 'найти_стремление']\n"
     ]
    }
   ],
   "source": [
    "for i, j in enumerate(hier_clusters_with_three_elem):\n",
    "    print(\"Кластер № %d \" % (i+1) + str(j))"
   ]
  },
  {
   "cell_type": "markdown",
   "metadata": {},
   "source": [
    "## К-средние"
   ]
  },
  {
   "cell_type": "code",
   "execution_count": 16,
   "metadata": {},
   "outputs": [],
   "source": [
    "kmeans = KMeans(n_clusters=41).fit(X)\n",
    "clusters = kmeans.labels_"
   ]
  },
  {
   "cell_type": "markdown",
   "metadata": {},
   "source": [
    "Наверное, выбор числа кластеров зависит от задачи, которая стоит перед исследователем. Если интересно посмотреть на значения глагола, то много кластеров задавать не стоит, если же интересно распределение типов объектов в каждом или в каких-нибудь из значений, то число кластеров можно задать побольше. Однако нужно выбирать наиболее оптимальное число в обоих из случаев (видимо перебором), так как слишком маленькое число кластеров либо слишком большое число дадут сложноинтерпретируемые или вовсе не интерпретируемые результаты."
   ]
  },
  {
   "cell_type": "code",
   "execution_count": 17,
   "metadata": {},
   "outputs": [],
   "source": [
    "clusters_hier = [[] for i in range(len(set(clusters)))]\n",
    "for i, j in enumerate(clusters):\n",
    "    clusters_hier[j-1].append(cleaned_pairs[i])"
   ]
  },
  {
   "cell_type": "code",
   "execution_count": 18,
   "metadata": {},
   "outputs": [],
   "source": [
    "more_two_clusters = []\n",
    "more_two = 0\n",
    "for cluster in clusters_hier:\n",
    "    if len(cluster) > 2:\n",
    "        more_two += 1\n",
    "        more_two_clusters.append(cluster)"
   ]
  },
  {
   "cell_type": "code",
   "execution_count": 19,
   "metadata": {},
   "outputs": [],
   "source": [
    "vectors_hier = [[] for i in range(len(set(clusters)))]\n",
    "for i, j in enumerate(clusters): \n",
    "    vectors_hier[j-1].append(np.array(X[i]))"
   ]
  },
  {
   "cell_type": "code",
   "execution_count": 20,
   "metadata": {},
   "outputs": [],
   "source": [
    "dist_from_centroid = [[] for i in range(len(more_two_clusters))]\n",
    "\n",
    "more_two = 0\n",
    "for cluster in vectors_hier:\n",
    "    if len(cluster) > 2:\n",
    "        for phrase in cluster:\n",
    "            dist_from_centroid[more_two].append(scipy.spatial.distance.cosine(np.mean(cluster), phrase))\n",
    "        more_two += 1"
   ]
  },
  {
   "cell_type": "code",
   "execution_count": 21,
   "metadata": {},
   "outputs": [],
   "source": [
    "kmean_clusters_with_three_elem = []\n",
    "i = 0\n",
    "for cluster in dist_from_centroid:\n",
    "    temp_list = []\n",
    "    closest_three = heapq.nlargest(3, cluster)\n",
    "    for elem in closest_three:\n",
    "        temp_list.append(more_two_clusters[i][cluster.index(elem)])\n",
    "    kmean_clusters_with_three_elem.append(temp_list)\n",
    "    i += 1"
   ]
  },
  {
   "cell_type": "code",
   "execution_count": 22,
   "metadata": {},
   "outputs": [
    {
     "name": "stdout",
     "output_type": "stream",
     "text": [
      "Кластер № 1 ['найти_мама', 'найти_отец', 'найти_мать']\n",
      "Кластер № 2 ['найти_отражение', 'найти_подтверждение', 'найти_отклик']\n",
      "Кластер № 3 ['найти_ключ', 'найти_золото', 'найти_клад']\n",
      "Кластер № 4 ['найти_место', 'найти_время', 'найти_день']\n",
      "Кластер № 5 ['найти_возможность', 'найти_случай', 'найти_невозможность']\n",
      "Кластер № 6 ['найти_книга', 'найти_книжка', 'найти_рукопись']\n",
      "Кластер № 7 ['найти_применение', 'найти_анализ', 'найти_подход']\n",
      "Кластер № 8 ['найти_невеста', 'найти_девушка', 'найти_жена']\n",
      "Кластер № 9 ['найти_объяснение', 'найти_предлог', 'найти_ответ']\n",
      "Кластер № 10 ['найти_помещение', 'найти_квартира', 'найти_дом']\n",
      "Кластер № 11 ['найти_понимание', 'найти_мысль', 'найти_смысл']\n",
      "Кластер № 12 ['найти_ученый', 'найти_доктор', 'найти_врач']\n",
      "Кластер № 13 ['найти_способ', 'найти_защита', 'найти_средства']\n",
      "Кластер № 14 ['найти_приют', 'найти_убежище', 'найти_спасение']\n",
      "Кластер № 15 ['найти_желание', 'найти_стремление', 'найти_жизнь']\n",
      "Кластер № 16 ['найти_человек', 'найти_дурак', 'найти_слово']\n",
      "Кластер № 17 ['найти_покой', 'найти_успокоение', 'найти_счастие']\n"
     ]
    }
   ],
   "source": [
    "for i, j in enumerate(kmean_clusters_with_three_elem):\n",
    "    print(\"Кластер № %d \" % (i+1) + str(j))"
   ]
  },
  {
   "cell_type": "markdown",
   "metadata": {},
   "source": [
    "### Анализ результатов"
   ]
  },
  {
   "cell_type": "markdown",
   "metadata": {},
   "source": [
    "Практически все кластеры получились однородными. Не по всем словосочетаниям удается точно понять значение глагола, в некоторых случаях требуется обращение к контексту: например, в кластере ['найти книга', 'найти книжка', 'найти рукопись'] нельзя сказать однозначно, предмет найден в результате поиска или случайно, возможны обе интерпретации. Не все значения глагола удалось поймать, основная трудность здесь, как мне кажется, когда у глагола есть конструкция с тремя обязательными актантами (ср. *Я нахожу ситуацию трудной*). То есть если мы отбираем лишь \"глагол + прямой объект\", то при подобном анализе такое значение глагола мы скорее упустим.\n",
    "Метод К-средних более удобен тем, что можно контролировать число кластеров, но, так как в алгоритме первый центроид выбирается рандомно, результаты при каждом запуске алгоритма могут отличаться. Иерархический метод более постоянен, но, по крайней мере в нашей задаче с данными в 100 словосочетаний, он оказался менее пластичен, то есть его возможности показались более ограниченными по сравнению с методом К-средних."
   ]
  }
 ],
 "metadata": {
  "kernelspec": {
   "display_name": "Python 3",
   "language": "python",
   "name": "python3"
  },
  "language_info": {
   "codemirror_mode": {
    "name": "ipython",
    "version": 3
   },
   "file_extension": ".py",
   "mimetype": "text/x-python",
   "name": "python",
   "nbconvert_exporter": "python",
   "pygments_lexer": "ipython3",
   "version": "3.7.3"
  }
 },
 "nbformat": 4,
 "nbformat_minor": 2
}
