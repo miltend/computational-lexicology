{
 "cells": [
  {
   "cell_type": "code",
   "execution_count": 1,
   "metadata": {},
   "outputs": [],
   "source": [
    "import nltk\n",
    "import re"
   ]
  },
  {
   "cell_type": "code",
   "execution_count": 2,
   "metadata": {},
   "outputs": [
    {
     "name": "stderr",
     "output_type": "stream",
     "text": [
      "[nltk_data] Downloading package framenet_v17 to\n",
      "[nltk_data]     /Users/mak/nltk_data...\n",
      "[nltk_data]   Package framenet_v17 is already up-to-date!\n"
     ]
    },
    {
     "data": {
      "text/plain": [
       "True"
      ]
     },
     "execution_count": 2,
     "metadata": {},
     "output_type": "execute_result"
    }
   ],
   "source": [
    "nltk.download('framenet_v17')"
   ]
  },
  {
   "cell_type": "code",
   "execution_count": 3,
   "metadata": {},
   "outputs": [],
   "source": [
    "from nltk.corpus import framenet as fn"
   ]
  },
  {
   "cell_type": "code",
   "execution_count": 10,
   "metadata": {},
   "outputs": [],
   "source": [
    "frames_source = []\n",
    "for frame in fn.frames():\n",
    "    if re.findall(\"Core:.*(Source )\", str(frame)):\n",
    "        frames_source.append(re.findall(\"frame.\\(\\d*\\): (.*)\", str(frame))[0])"
   ]
  },
  {
   "cell_type": "markdown",
   "metadata": {},
   "source": [
    "**Фреймы, в ядерных участниках которых присутствует Source:**"
   ]
  },
  {
   "cell_type": "code",
   "execution_count": 11,
   "metadata": {},
   "outputs": [
    {
     "name": "stdout",
     "output_type": "stream",
     "text": [
      "51\n"
     ]
    },
    {
     "data": {
      "text/plain": [
       "['Becoming_detached',\n",
       " 'Being_detached',\n",
       " 'Bringing',\n",
       " 'Cause_fluidic_motion',\n",
       " 'Cause_motion',\n",
       " 'Container_focused_removing',\n",
       " 'Correctness',\n",
       " 'Cotheme',\n",
       " 'Departing',\n",
       " 'Detaching',\n",
       " 'Emanating',\n",
       " 'Emptying',\n",
       " 'Excreting',\n",
       " 'Fleeing',\n",
       " 'Fluidic_motion',\n",
       " 'Food_gathering',\n",
       " 'Getting_underway',\n",
       " 'Getting_vehicle_underway',\n",
       " 'Intentional_traversing',\n",
       " 'Level_of_light',\n",
       " 'Light_movement',\n",
       " 'Mass_motion',\n",
       " 'Motion',\n",
       " 'Motion_directional',\n",
       " 'Motion_noise',\n",
       " 'Motion_scenario',\n",
       " 'Operate_vehicle',\n",
       " 'Operate_vehicle_scenario',\n",
       " 'Optical_image',\n",
       " 'Passing',\n",
       " 'Path_shape',\n",
       " 'Planned_trajectory',\n",
       " 'Quitting_a_place',\n",
       " 'Removing',\n",
       " 'Removing_scenario',\n",
       " 'Ride_vehicle',\n",
       " 'Robbery',\n",
       " 'Self_motion',\n",
       " 'Sensation',\n",
       " 'Setting_out',\n",
       " 'Smuggling',\n",
       " 'Source_of_getting',\n",
       " 'Source_path_goal',\n",
       " 'Taking',\n",
       " 'Theft',\n",
       " 'Travel',\n",
       " 'Traversing',\n",
       " 'Use_vehicle',\n",
       " 'Vehicle_departure_initial_stage',\n",
       " 'Visiting_scenario_departing',\n",
       " 'Visitor_departure']"
      ]
     },
     "execution_count": 11,
     "metadata": {},
     "output_type": "execute_result"
    }
   ],
   "source": [
    "print(len(frames_source))\n",
    "frames_source"
   ]
  }
 ],
 "metadata": {
  "kernelspec": {
   "display_name": "Python 3",
   "language": "python",
   "name": "python3"
  },
  "language_info": {
   "codemirror_mode": {
    "name": "ipython",
    "version": 3
   },
   "file_extension": ".py",
   "mimetype": "text/x-python",
   "name": "python",
   "nbconvert_exporter": "python",
   "pygments_lexer": "ipython3",
   "version": "3.7.3"
  }
 },
 "nbformat": 4,
 "nbformat_minor": 2
}
